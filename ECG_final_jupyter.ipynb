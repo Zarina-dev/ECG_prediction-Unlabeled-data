{
 "cells": [
  {
   "cell_type": "markdown",
   "id": "667f8f2e",
   "metadata": {},
   "source": [
    "https://www.kaggle.com/luigisaetta/physionet2017ecg/tasks?taskId=2406                   \n",
    "About this file             \n",
    "Each row is a different ECG.               \n",
    "The last two columns contain the identifier of the original file and the label          \n",
    "\n",
    "data is given in Volt             \n",
    "Every row contains data from one ECG (2000 point, 250 Hz). Each row has a label (0, 3).            \n",
    "develop a model to classify each ECG in one of the 4 classes. 어떤 ECG 어느 label에 속하는가     "
   ]
  },
  {
   "cell_type": "code",
   "execution_count": 12,
   "id": "fe7e1a19",
   "metadata": {},
   "outputs": [],
   "source": [
    "import numpy as np\n",
    "import pandas as pd\n",
    "import matplotlib.pyplot as plt\n",
    "import seaborn as sns\n",
    "sns.set()\n",
    "\n",
    "from sklearn.preprocessing import StandardScaler, MinMaxScaler # scalers\n",
    "\n",
    "from sklearn.decomposition import PCA  # 2d dimensional reduction\n",
    "from sklearn.cluster import KMeans     # clustering\n",
    "\n",
    "from sklearn.model_selection import train_test_split\n",
    "\n",
    "from sklearn.neural_network import MLPClassifier  # classifiers\n",
    "from sklearn.neighbors import KNeighborsClassifier\n",
    "from sklearn.naive_bayes import GaussianNB\n",
    "from sklearn.tree import DecisionTreeClassifier\n",
    "from sklearn.ensemble import RandomForestClassifier, GradientBoostingClassifier\n",
    "\n",
    "from sklearn.metrics import accuracy_score      # check score\n",
    "\n"
   ]
  },
  {
   "cell_type": "code",
   "execution_count": 13,
   "id": "e3b467ee",
   "metadata": {},
   "outputs": [
    {
     "data": {
      "text/html": [
       "<div>\n",
       "<style scoped>\n",
       "    .dataframe tbody tr th:only-of-type {\n",
       "        vertical-align: middle;\n",
       "    }\n",
       "\n",
       "    .dataframe tbody tr th {\n",
       "        vertical-align: top;\n",
       "    }\n",
       "\n",
       "    .dataframe thead th {\n",
       "        text-align: right;\n",
       "    }\n",
       "</style>\n",
       "<table border=\"1\" class=\"dataframe\">\n",
       "  <thead>\n",
       "    <tr style=\"text-align: right;\">\n",
       "      <th></th>\n",
       "      <th>0</th>\n",
       "      <th>1</th>\n",
       "      <th>2</th>\n",
       "      <th>3</th>\n",
       "      <th>4</th>\n",
       "      <th>5</th>\n",
       "      <th>6</th>\n",
       "      <th>7</th>\n",
       "      <th>8</th>\n",
       "      <th>9</th>\n",
       "      <th>...</th>\n",
       "      <th>1992</th>\n",
       "      <th>1993</th>\n",
       "      <th>1994</th>\n",
       "      <th>1995</th>\n",
       "      <th>1996</th>\n",
       "      <th>1997</th>\n",
       "      <th>1998</th>\n",
       "      <th>1999</th>\n",
       "      <th>name</th>\n",
       "      <th>label</th>\n",
       "    </tr>\n",
       "  </thead>\n",
       "  <tbody>\n",
       "    <tr>\n",
       "      <th>0</th>\n",
       "      <td>0.035032</td>\n",
       "      <td>0.037155</td>\n",
       "      <td>0.044586</td>\n",
       "      <td>0.063694</td>\n",
       "      <td>0.076433</td>\n",
       "      <td>0.085987</td>\n",
       "      <td>0.089172</td>\n",
       "      <td>0.083864</td>\n",
       "      <td>0.072187</td>\n",
       "      <td>0.061571</td>\n",
       "      <td>...</td>\n",
       "      <td>0.008493</td>\n",
       "      <td>0.000000</td>\n",
       "      <td>-0.007431</td>\n",
       "      <td>-0.012739</td>\n",
       "      <td>-0.015924</td>\n",
       "      <td>-0.019108</td>\n",
       "      <td>-0.023355</td>\n",
       "      <td>-0.022293</td>\n",
       "      <td>A00/A00001</td>\n",
       "      <td>0</td>\n",
       "    </tr>\n",
       "    <tr>\n",
       "      <th>1</th>\n",
       "      <td>-0.035288</td>\n",
       "      <td>-0.032573</td>\n",
       "      <td>-0.030945</td>\n",
       "      <td>-0.029859</td>\n",
       "      <td>-0.031488</td>\n",
       "      <td>-0.034202</td>\n",
       "      <td>-0.037459</td>\n",
       "      <td>-0.040717</td>\n",
       "      <td>-0.043974</td>\n",
       "      <td>-0.047231</td>\n",
       "      <td>...</td>\n",
       "      <td>-0.001629</td>\n",
       "      <td>-0.001086</td>\n",
       "      <td>-0.000543</td>\n",
       "      <td>-0.000543</td>\n",
       "      <td>0.000000</td>\n",
       "      <td>0.000000</td>\n",
       "      <td>0.000543</td>\n",
       "      <td>0.001086</td>\n",
       "      <td>A00/A00002</td>\n",
       "      <td>0</td>\n",
       "    </tr>\n",
       "    <tr>\n",
       "      <th>2</th>\n",
       "      <td>-0.303922</td>\n",
       "      <td>-0.261438</td>\n",
       "      <td>-0.222222</td>\n",
       "      <td>-0.192810</td>\n",
       "      <td>-0.176471</td>\n",
       "      <td>-0.163399</td>\n",
       "      <td>-0.147059</td>\n",
       "      <td>-0.130719</td>\n",
       "      <td>-0.117647</td>\n",
       "      <td>-0.107843</td>\n",
       "      <td>...</td>\n",
       "      <td>-0.346405</td>\n",
       "      <td>-0.339869</td>\n",
       "      <td>-0.323529</td>\n",
       "      <td>-0.297386</td>\n",
       "      <td>-0.264706</td>\n",
       "      <td>-0.209150</td>\n",
       "      <td>-0.117647</td>\n",
       "      <td>-0.065359</td>\n",
       "      <td>A00/A00003</td>\n",
       "      <td>0</td>\n",
       "    </tr>\n",
       "    <tr>\n",
       "      <th>3</th>\n",
       "      <td>0.109467</td>\n",
       "      <td>0.117604</td>\n",
       "      <td>0.128698</td>\n",
       "      <td>0.142012</td>\n",
       "      <td>0.153107</td>\n",
       "      <td>0.161982</td>\n",
       "      <td>0.170118</td>\n",
       "      <td>0.176036</td>\n",
       "      <td>0.181213</td>\n",
       "      <td>0.184911</td>\n",
       "      <td>...</td>\n",
       "      <td>0.780325</td>\n",
       "      <td>0.640533</td>\n",
       "      <td>0.467456</td>\n",
       "      <td>0.298077</td>\n",
       "      <td>0.165680</td>\n",
       "      <td>0.085799</td>\n",
       "      <td>0.012574</td>\n",
       "      <td>0.013314</td>\n",
       "      <td>A00/A00004</td>\n",
       "      <td>1</td>\n",
       "    </tr>\n",
       "    <tr>\n",
       "      <th>4</th>\n",
       "      <td>-0.019856</td>\n",
       "      <td>-0.017148</td>\n",
       "      <td>-0.014440</td>\n",
       "      <td>-0.011733</td>\n",
       "      <td>-0.009928</td>\n",
       "      <td>-0.008123</td>\n",
       "      <td>-0.006318</td>\n",
       "      <td>-0.004513</td>\n",
       "      <td>-0.003610</td>\n",
       "      <td>-0.001805</td>\n",
       "      <td>...</td>\n",
       "      <td>-0.306859</td>\n",
       "      <td>-0.260830</td>\n",
       "      <td>-0.214801</td>\n",
       "      <td>-0.168773</td>\n",
       "      <td>-0.124549</td>\n",
       "      <td>-0.083935</td>\n",
       "      <td>-0.051444</td>\n",
       "      <td>0.000000</td>\n",
       "      <td>A00/A00005</td>\n",
       "      <td>1</td>\n",
       "    </tr>\n",
       "    <tr>\n",
       "      <th>...</th>\n",
       "      <td>...</td>\n",
       "      <td>...</td>\n",
       "      <td>...</td>\n",
       "      <td>...</td>\n",
       "      <td>...</td>\n",
       "      <td>...</td>\n",
       "      <td>...</td>\n",
       "      <td>...</td>\n",
       "      <td>...</td>\n",
       "      <td>...</td>\n",
       "      <td>...</td>\n",
       "      <td>...</td>\n",
       "      <td>...</td>\n",
       "      <td>...</td>\n",
       "      <td>...</td>\n",
       "      <td>...</td>\n",
       "      <td>...</td>\n",
       "      <td>...</td>\n",
       "      <td>...</td>\n",
       "      <td>...</td>\n",
       "      <td>...</td>\n",
       "    </tr>\n",
       "    <tr>\n",
       "      <th>8523</th>\n",
       "      <td>0.151235</td>\n",
       "      <td>0.148148</td>\n",
       "      <td>0.145062</td>\n",
       "      <td>0.145062</td>\n",
       "      <td>0.141975</td>\n",
       "      <td>0.138889</td>\n",
       "      <td>0.135802</td>\n",
       "      <td>0.132716</td>\n",
       "      <td>0.129630</td>\n",
       "      <td>0.126543</td>\n",
       "      <td>...</td>\n",
       "      <td>0.182099</td>\n",
       "      <td>0.179012</td>\n",
       "      <td>0.172840</td>\n",
       "      <td>0.166667</td>\n",
       "      <td>0.160494</td>\n",
       "      <td>0.151235</td>\n",
       "      <td>0.138889</td>\n",
       "      <td>0.108025</td>\n",
       "      <td>A08/A08524</td>\n",
       "      <td>0</td>\n",
       "    </tr>\n",
       "    <tr>\n",
       "      <th>8524</th>\n",
       "      <td>0.502273</td>\n",
       "      <td>0.518182</td>\n",
       "      <td>0.536364</td>\n",
       "      <td>0.556818</td>\n",
       "      <td>0.572727</td>\n",
       "      <td>0.588636</td>\n",
       "      <td>0.602273</td>\n",
       "      <td>0.615909</td>\n",
       "      <td>0.631818</td>\n",
       "      <td>0.654545</td>\n",
       "      <td>...</td>\n",
       "      <td>-0.309091</td>\n",
       "      <td>-0.311364</td>\n",
       "      <td>-0.309091</td>\n",
       "      <td>-0.288636</td>\n",
       "      <td>-0.261364</td>\n",
       "      <td>-0.218182</td>\n",
       "      <td>-0.175000</td>\n",
       "      <td>-0.134091</td>\n",
       "      <td>A08/A08525</td>\n",
       "      <td>2</td>\n",
       "    </tr>\n",
       "    <tr>\n",
       "      <th>8525</th>\n",
       "      <td>-0.124053</td>\n",
       "      <td>-0.113636</td>\n",
       "      <td>-0.107955</td>\n",
       "      <td>-0.105114</td>\n",
       "      <td>-0.101326</td>\n",
       "      <td>-0.096591</td>\n",
       "      <td>-0.092803</td>\n",
       "      <td>-0.096591</td>\n",
       "      <td>-0.103220</td>\n",
       "      <td>-0.107955</td>\n",
       "      <td>...</td>\n",
       "      <td>-0.407197</td>\n",
       "      <td>-0.509470</td>\n",
       "      <td>-0.541667</td>\n",
       "      <td>-0.511364</td>\n",
       "      <td>-0.426136</td>\n",
       "      <td>-0.296402</td>\n",
       "      <td>-0.163826</td>\n",
       "      <td>-0.049242</td>\n",
       "      <td>A08/A08526</td>\n",
       "      <td>0</td>\n",
       "    </tr>\n",
       "    <tr>\n",
       "      <th>8526</th>\n",
       "      <td>-0.248731</td>\n",
       "      <td>-0.253807</td>\n",
       "      <td>-0.260575</td>\n",
       "      <td>-0.267343</td>\n",
       "      <td>-0.272420</td>\n",
       "      <td>-0.277496</td>\n",
       "      <td>-0.282572</td>\n",
       "      <td>-0.285956</td>\n",
       "      <td>-0.287648</td>\n",
       "      <td>-0.285956</td>\n",
       "      <td>...</td>\n",
       "      <td>-0.126904</td>\n",
       "      <td>-0.120135</td>\n",
       "      <td>-0.115059</td>\n",
       "      <td>-0.109983</td>\n",
       "      <td>-0.101523</td>\n",
       "      <td>-0.091371</td>\n",
       "      <td>-0.074450</td>\n",
       "      <td>-0.060914</td>\n",
       "      <td>A08/A08527</td>\n",
       "      <td>0</td>\n",
       "    </tr>\n",
       "    <tr>\n",
       "      <th>8527</th>\n",
       "      <td>-0.030675</td>\n",
       "      <td>-0.024540</td>\n",
       "      <td>-0.018405</td>\n",
       "      <td>-0.013804</td>\n",
       "      <td>-0.009202</td>\n",
       "      <td>-0.004601</td>\n",
       "      <td>-0.003067</td>\n",
       "      <td>-0.001534</td>\n",
       "      <td>-0.001534</td>\n",
       "      <td>-0.001534</td>\n",
       "      <td>...</td>\n",
       "      <td>-0.013804</td>\n",
       "      <td>-0.016871</td>\n",
       "      <td>-0.018405</td>\n",
       "      <td>-0.019939</td>\n",
       "      <td>-0.021472</td>\n",
       "      <td>-0.024540</td>\n",
       "      <td>-0.026074</td>\n",
       "      <td>-0.027607</td>\n",
       "      <td>A08/A08528</td>\n",
       "      <td>0</td>\n",
       "    </tr>\n",
       "  </tbody>\n",
       "</table>\n",
       "<p>8528 rows × 2002 columns</p>\n",
       "</div>"
      ],
      "text/plain": [
       "             0         1         2         3         4         5         6  \\\n",
       "0     0.035032  0.037155  0.044586  0.063694  0.076433  0.085987  0.089172   \n",
       "1    -0.035288 -0.032573 -0.030945 -0.029859 -0.031488 -0.034202 -0.037459   \n",
       "2    -0.303922 -0.261438 -0.222222 -0.192810 -0.176471 -0.163399 -0.147059   \n",
       "3     0.109467  0.117604  0.128698  0.142012  0.153107  0.161982  0.170118   \n",
       "4    -0.019856 -0.017148 -0.014440 -0.011733 -0.009928 -0.008123 -0.006318   \n",
       "...        ...       ...       ...       ...       ...       ...       ...   \n",
       "8523  0.151235  0.148148  0.145062  0.145062  0.141975  0.138889  0.135802   \n",
       "8524  0.502273  0.518182  0.536364  0.556818  0.572727  0.588636  0.602273   \n",
       "8525 -0.124053 -0.113636 -0.107955 -0.105114 -0.101326 -0.096591 -0.092803   \n",
       "8526 -0.248731 -0.253807 -0.260575 -0.267343 -0.272420 -0.277496 -0.282572   \n",
       "8527 -0.030675 -0.024540 -0.018405 -0.013804 -0.009202 -0.004601 -0.003067   \n",
       "\n",
       "             7         8         9  ...      1992      1993      1994  \\\n",
       "0     0.083864  0.072187  0.061571  ...  0.008493  0.000000 -0.007431   \n",
       "1    -0.040717 -0.043974 -0.047231  ... -0.001629 -0.001086 -0.000543   \n",
       "2    -0.130719 -0.117647 -0.107843  ... -0.346405 -0.339869 -0.323529   \n",
       "3     0.176036  0.181213  0.184911  ...  0.780325  0.640533  0.467456   \n",
       "4    -0.004513 -0.003610 -0.001805  ... -0.306859 -0.260830 -0.214801   \n",
       "...        ...       ...       ...  ...       ...       ...       ...   \n",
       "8523  0.132716  0.129630  0.126543  ...  0.182099  0.179012  0.172840   \n",
       "8524  0.615909  0.631818  0.654545  ... -0.309091 -0.311364 -0.309091   \n",
       "8525 -0.096591 -0.103220 -0.107955  ... -0.407197 -0.509470 -0.541667   \n",
       "8526 -0.285956 -0.287648 -0.285956  ... -0.126904 -0.120135 -0.115059   \n",
       "8527 -0.001534 -0.001534 -0.001534  ... -0.013804 -0.016871 -0.018405   \n",
       "\n",
       "          1995      1996      1997      1998      1999        name  label  \n",
       "0    -0.012739 -0.015924 -0.019108 -0.023355 -0.022293  A00/A00001      0  \n",
       "1    -0.000543  0.000000  0.000000  0.000543  0.001086  A00/A00002      0  \n",
       "2    -0.297386 -0.264706 -0.209150 -0.117647 -0.065359  A00/A00003      0  \n",
       "3     0.298077  0.165680  0.085799  0.012574  0.013314  A00/A00004      1  \n",
       "4    -0.168773 -0.124549 -0.083935 -0.051444  0.000000  A00/A00005      1  \n",
       "...        ...       ...       ...       ...       ...         ...    ...  \n",
       "8523  0.166667  0.160494  0.151235  0.138889  0.108025  A08/A08524      0  \n",
       "8524 -0.288636 -0.261364 -0.218182 -0.175000 -0.134091  A08/A08525      2  \n",
       "8525 -0.511364 -0.426136 -0.296402 -0.163826 -0.049242  A08/A08526      0  \n",
       "8526 -0.109983 -0.101523 -0.091371 -0.074450 -0.060914  A08/A08527      0  \n",
       "8527 -0.019939 -0.021472 -0.024540 -0.026074 -0.027607  A08/A08528      0  \n",
       "\n",
       "[8528 rows x 2002 columns]"
      ]
     },
     "execution_count": 13,
     "metadata": {},
     "output_type": "execute_result"
    }
   ],
   "source": [
    "data = pd.read_csv('physionet2017.csv')\n",
    "data"
   ]
  },
  {
   "cell_type": "markdown",
   "id": "9721872d",
   "metadata": {},
   "source": [
    "# Data analisys"
   ]
  },
  {
   "cell_type": "code",
   "execution_count": 14,
   "id": "17cd4566",
   "metadata": {},
   "outputs": [
    {
     "name": "stdout",
     "output_type": "stream",
     "text": [
      "<class 'pandas.core.frame.DataFrame'>\n",
      "RangeIndex: 8528 entries, 0 to 8527\n",
      "Columns: 2002 entries, 0 to label\n",
      "dtypes: float64(2000), int64(1), object(1)\n",
      "memory usage: 130.3+ MB\n"
     ]
    }
   ],
   "source": [
    "data.info()"
   ]
  },
  {
   "cell_type": "code",
   "execution_count": 15,
   "id": "b17e9b56",
   "metadata": {
    "scrolled": true
   },
   "outputs": [
    {
     "name": "stdout",
     "output_type": "stream",
     "text": [
      "[0, 0, 0, 0, 0, 0, 0, 0, 0, 0, 0, 0, 0, 0, 0, 0, 0, 0, 0, 0, 0, 0, 0, 0, 0, 0, 0, 0, 0, 0, 0, 0, 0, 0, 0, 0, 0, 0, 0, 0, 0, 0, 0, 0, 0, 0, 0, 0, 0, 0, 0, 0, 0, 0, 0, 0, 0, 0, 0, 0, 0, 0, 0, 0, 0, 0, 0, 0, 0, 0, 0, 0, 0, 0, 0, 0, 0, 0, 0, 0, 0, 0, 0, 0, 0, 0, 0, 0, 0, 0, 0, 0, 0, 0, 0, 0, 0, 0, 0, 0, 0, 0, 0, 0, 0, 0, 0, 0, 0, 0, 0, 0, 0, 0, 0, 0, 0, 0, 0, 0, 0, 0, 0, 0, 0, 0, 0, 0, 0, 0, 0, 0, 0, 0, 0, 0, 0, 0, 0, 0, 0, 0, 0, 0, 0, 0, 0, 0, 0, 0, 0, 0, 0, 0, 0, 0, 0, 0, 0, 0, 0, 0, 0, 0, 0, 0, 0, 0, 0, 0, 0, 0, 0, 0, 0, 0, 0, 0, 0, 0, 0, 0, 0, 0, 0, 0, 0, 0, 0, 0, 0, 0, 0, 0, 0, 0, 0, 0, 0, 0, 0, 0, 0, 0, 0, 0, 0, 0, 0, 0, 0, 0, 0, 0, 0, 0, 0, 0, 0, 0, 0, 0, 0, 0, 0, 0, 0, 0, 0, 0, 0, 0, 0, 0, 0, 0, 0, 0, 0, 0, 0, 0, 0, 0, 0, 0, 0, 0, 0, 0, 0, 0, 0, 0, 0, 0, 0, 0, 0, 0, 0, 0, 0, 0, 0, 0, 0, 0, 0, 0, 0, 0, 0, 0, 0, 0, 0, 0, 0, 0, 0, 0, 0, 0, 0, 0, 0, 0, 0, 0, 0, 0, 0, 0, 0, 0, 0, 0, 0, 0, 0, 0, 0, 0, 0, 0, 0, 0, 0, 0, 0, 0, 0, 0, 0, 0, 0, 0, 0, 0, 0, 0, 0, 0, 0, 0, 0, 0, 0, 0, 0, 0, 0, 0, 0, 0, 0, 0, 0, 0, 0, 0, 0, 0, 0, 0, 0, 0, 0, 0, 0, 0, 0, 0, 0, 0, 0, 0, 0, 0, 0, 0, 0, 0, 0, 0, 0, 0, 0, 0, 0, 0, 0, 0, 0, 0, 0, 0, 0, 0, 0, 0, 0, 0, 0, 0, 0, 0, 0, 0, 0, 0, 0, 0, 0, 0, 0, 0, 0, 0, 0, 0, 0, 0, 0, 0, 0, 0, 0, 0, 0, 0, 0, 0, 0, 0, 0, 0, 0, 0, 0, 0, 0, 0, 0, 0, 0, 0, 0, 0, 0, 0, 0, 0, 0, 0, 0, 0, 0, 0, 0, 0, 0, 0, 0, 0, 0, 0, 0, 0, 0, 0, 0, 0, 0, 0, 0, 0, 0, 0, 0, 0, 0, 0, 0, 0, 0, 0, 0, 0, 0, 0, 0, 0, 0, 0, 0, 0, 0, 0, 0, 0, 0, 0, 0, 0, 0, 0, 0, 0, 0, 0, 0, 0, 0, 0, 0, 0, 0, 0, 0, 0, 0, 0, 0, 0, 0, 0, 0, 0, 0, 0, 0, 0, 0, 0, 0, 0, 0, 0, 0, 0, 0, 0, 0, 0, 0, 0, 0, 0, 0, 0, 0, 0, 0, 0, 0, 0, 0, 0, 0, 0, 0, 0, 0, 0, 0, 0, 0, 0, 0, 0, 0, 0, 0, 0, 0, 0, 0, 0, 0, 0, 0, 0, 0, 0, 0, 0, 0, 0, 0, 0, 0, 0, 0, 0, 0, 0, 0, 0, 0, 0, 0, 0, 0, 0, 0, 0, 0, 0, 0, 0, 0, 0, 0, 0, 0, 0, 0, 0, 0, 0, 0, 0, 0, 0, 0, 0, 0, 0, 0, 0, 0, 0, 0, 0, 0, 0, 0, 0, 0, 0, 0, 0, 0, 0, 0, 0, 0, 0, 0, 0, 0, 0, 0, 0, 0, 0, 0, 0, 0, 0, 0, 0, 0, 0, 0, 0, 0, 0, 0, 0, 0, 0, 0, 0, 0, 0, 0, 0, 0, 0, 0, 0, 0, 0, 0, 0, 0, 0, 0, 0, 0, 0, 0, 0, 0, 0, 0, 0, 0, 0, 0, 0, 0, 0, 0, 0, 0, 0, 0, 0, 0, 0, 0, 0, 0, 0, 0, 0, 0, 0, 0, 0, 0, 0, 0, 0, 0, 0, 0, 0, 0, 0, 0, 0, 0, 0, 0, 0, 0, 0, 0, 0, 0, 0, 0, 0, 0, 0, 0, 0, 0, 0, 0, 0, 0, 0, 0, 0, 0, 0, 0, 0, 0, 0, 0, 0, 0, 0, 0, 0, 0, 0, 0, 0, 0, 0, 0, 0, 0, 0, 0, 0, 0, 0, 0, 0, 0, 0, 0, 0, 0, 0, 0, 0, 0, 0, 0, 0, 0, 0, 0, 0, 0, 0, 0, 0, 0, 0, 0, 0, 0, 0, 0, 0, 0, 0, 0, 0, 0, 0, 0, 0, 0, 0, 0, 0, 0, 0, 0, 0, 0, 0, 0, 0, 0, 0, 0, 0, 0, 0, 0, 0, 0, 0, 0, 0, 0, 0, 0, 0, 0, 0, 0, 0, 0, 0, 0, 0, 0, 0, 0, 0, 0, 0, 0, 0, 0, 0, 0, 0, 0, 0, 0, 0, 0, 0, 0, 0, 0, 0, 0, 0, 0, 0, 0, 0, 0, 0, 0, 0, 0, 0, 0, 0, 0, 0, 0, 0, 0, 0, 0, 0, 0, 0, 0, 0, 0, 0, 0, 0, 0, 0, 0, 0, 0, 0, 0, 0, 0, 0, 0, 0, 0, 0, 0, 0, 0, 0, 0, 0, 0, 0, 0, 0, 0, 0, 0, 0, 0, 0, 0, 0, 0, 0, 0, 0, 0, 0, 0, 0, 0, 0, 0, 0, 0, 0, 0, 0, 0, 0, 0, 0, 0, 0, 0, 0, 0, 0, 0, 0, 0, 0, 0, 0, 0, 0, 0, 0, 0, 0, 0, 0, 0, 0, 0, 0, 0, 0, 0, 0, 0, 0, 0, 0, 0, 0, 0, 0, 0, 0, 0, 0, 0, 0, 0, 0, 0, 0, 0, 0, 0, 0, 0, 0, 0, 0, 0, 0, 0, 0, 0, 0, 0, 0, 0, 0, 0, 0, 0, 0, 0, 0, 0, 0, 0, 0, 0, 0, 0, 0, 0, 0, 0, 0, 0, 0, 0, 0, 0, 0, 0, 0, 0, 0, 0, 0, 0, 0, 0, 0, 0, 0, 0, 0, 0, 0, 0, 0, 0, 0, 0, 0, 0, 0, 0, 0, 0, 0, 0, 0, 0, 0, 0, 0, 0, 0, 0, 0, 0, 0, 0, 0, 0, 0, 0, 0, 0, 0, 0, 0, 0, 0, 0, 0, 0, 0, 0, 0, 0, 0, 0, 0, 0, 0, 0, 0, 0, 0, 0, 0, 0, 0, 0, 0, 0, 0, 0, 0, 0, 0, 0, 0, 0, 0, 0, 0, 0, 0, 0, 0, 0, 0, 0, 0, 0, 0, 0, 0, 0, 0, 0, 0, 0, 0, 0, 0, 0, 0, 0, 0, 0, 0, 0, 0, 0, 0, 0, 0, 0, 0, 0, 0, 0, 0, 0, 0, 0, 0, 0, 0, 0, 0, 0, 0, 0, 0, 0, 0, 0, 0, 0, 0, 0, 0, 0, 0, 0, 0, 0, 0, 0, 0, 0, 0, 0, 0, 0, 0, 0, 0, 0, 0, 0, 0, 0, 0, 0, 0, 0, 0, 0, 0, 0, 0, 0, 0, 0, 0, 0, 0, 0, 0, 0, 0, 0, 0, 0, 0, 0, 0, 0, 0, 0, 0, 0, 0, 0, 0, 0, 0, 0, 0, 0, 0, 0, 0, 0, 0, 0, 0, 0, 0, 0, 0, 0, 0, 0, 0, 0, 0, 0, 0, 0, 0, 0, 0, 0, 0, 0, 0, 0, 0, 0, 0, 0, 0, 0, 0, 0, 0, 0, 0, 0, 0, 0, 0, 0, 0, 0, 0, 0, 0, 0, 0, 0, 0, 0, 0, 0, 0, 0, 0, 0, 0, 0, 0, 0, 0, 0, 0, 0, 0, 0, 0, 0, 0, 0, 0, 0, 0, 0, 0, 0, 0, 0, 0, 0, 0, 0, 0, 0, 0, 0, 0, 0, 0, 0, 0, 0, 0, 0, 0, 0, 0, 0, 0, 0, 0, 0, 0, 0, 0, 0, 0, 0, 0, 0, 0, 0, 0, 0, 0, 0, 0, 0, 0, 0, 0, 0, 0, 0, 0, 0, 0, 0, 0, 0, 0, 0, 0, 0, 0, 0, 0, 0, 0, 0, 0, 0, 0, 0, 0, 0, 0, 0, 0, 0, 0, 0, 0, 0, 0, 0, 0, 0, 0, 0, 0, 0, 0, 0, 0, 0, 0, 0, 0, 0, 0, 0, 0, 0, 0, 0, 0, 0, 0, 0, 0, 0, 0, 0, 0, 0, 0, 0, 0, 0, 0, 0, 0, 0, 0, 0, 0, 0, 0, 0, 0, 0, 0, 0, 0, 0, 0, 0, 0, 0, 0, 0, 0, 0, 0, 0, 0, 0, 0, 0, 0, 0, 0, 0, 0, 0, 0, 0, 0, 0, 0, 0, 0, 0, 0, 0, 0, 0, 0, 0, 0, 0, 0, 0, 0, 0, 0, 0, 0, 0, 0, 0, 0, 0, 0, 0, 0, 0, 0, 0, 0, 0, 0, 0, 0, 0, 0, 0, 0, 0, 0, 0, 0, 0, 0, 0, 0, 0, 0, 0, 0, 0, 0, 0, 0, 0, 0, 0, 0, 0, 0, 0, 0, 0, 0, 0, 0, 0, 0, 0, 0, 0, 0, 0, 0, 0, 0, 0, 0, 0, 0, 0, 0, 0, 0, 0, 0, 0, 0, 0, 0, 0, 0, 0, 0, 0, 0, 0, 0, 0, 0, 0, 0, 0, 0, 0, 0, 0, 0, 0, 0, 0, 0, 0, 0, 0, 0, 0, 0, 0, 0, 0, 0, 0, 0, 0, 0, 0, 0, 0, 0, 0, 0, 0, 0, 0, 0, 0, 0, 0, 0, 0, 0, 0, 0, 0, 0, 0, 0, 0, 0, 0, 0, 0, 0, 0, 0, 0, 0, 0, 0, 0, 0, 0, 0, 0, 0, 0, 0, 0, 0, 0, 0, 0, 0, 0, 0, 0, 0, 0, 0, 0, 0, 0, 0, 0, 0, 0, 0, 0, 0, 0, 0, 0, 0, 0, 0, 0, 0, 0, 0, 0, 0, 0, 0, 0, 0, 0, 0, 0, 0, 0, 0, 0, 0, 0, 0, 0, 0, 0, 0, 0, 0, 0, 0, 0, 0, 0, 0, 0, 0, 0, 0, 0, 0, 0, 0, 0, 0, 0, 0, 0, 0, 0, 0, 0, 0, 0, 0, 0, 0, 0, 0, 0, 0, 0, 0, 0, 0, 0, 0, 0, 0, 0, 0, 0, 0, 0, 0, 0, 0, 0, 0, 0, 0, 0, 0, 0, 0, 0, 0, 0, 0, 0, 0, 0, 0, 0, 0, 0, 0, 0, 0, 0, 0, 0, 0, 0, 0, 0, 0, 0, 0, 0, 0, 0, 0, 0, 0, 0, 0, 0, 0, 0, 0, 0, 0, 0, 0, 0, 0, 0, 0, 0, 0, 0, 0, 0, 0, 0, 0, 0, 0, 0, 0, 0, 0, 0, 0, 0, 0, 0, 0, 0, 0, 0, 0, 0, 0, 0, 0, 0, 0, 0, 0, 0, 0, 0, 0, 0, 0, 0, 0, 0, 0, 0, 0, 0, 0, 0, 0, 0, 0, 0, 0, 0, 0, 0, 0, 0, 0, 0, 0, 0, 0, 0, 0, 0, 0, 0, 0, 0, 0, 0, 0, 0, 0, 0, 0, 0, 0, 0, 0, 0, 0, 0, 0, 0, 0, 0, 0, 0, 0, 0, 0, 0, 0, 0, 0, 0, 0, 0, 0, 0, 0, 0, 0, 0, 0, 0, 0, 0, 0, 0, 0, 0, 0, 0, 0, 0, 0, 0, 0, 0, 0, 0, 0, 0, 0, 0, 0, 0, 0, 0, 0, 0, 0, 0, 0, 0, 0, 0, 0, 0, 0, 0, 0, 0, 0, 0, 0, 0, 0, 0, 0, 0, 0, 0, 0, 0, 0, 0, 0, 0, 0, 0, 0, 0, 0, 0, 0, 0, 0, 0, 0, 0, 0, 0, 0, 0, 0, 0, 0, 0, 0, 0, 0, 0, 0, 0, 0, 0, 0, 0, 0, 0, 0, 0, 0, 0, 0, 0, 0, 0, 0, 0, 0, 0, 0, 0, 0, 0, 0]\n"
     ]
    }
   ],
   "source": [
    "nulls = []\n",
    "for col in data.columns:\n",
    "    nulls.append(data[col].isnull().sum())\n",
    "print(nulls)"
   ]
  },
  {
   "cell_type": "code",
   "execution_count": 16,
   "id": "4209bcf6",
   "metadata": {
    "scrolled": true
   },
   "outputs": [
    {
     "data": {
      "text/plain": [
       "<AxesSubplot:>"
      ]
     },
     "execution_count": 16,
     "metadata": {},
     "output_type": "execute_result"
    },
    {
     "data": {
      "image/png": "[encoded data removed]",
      "text/plain": [
       "<Figure size 432x288 with 1 Axes>"
      ]
     },
     "metadata": {},
     "output_type": "display_data"
    }
   ],
   "source": [
    "sns.heatmap(data.isnull(), cbar = False)"
   ]
  },
  {
   "cell_type": "markdown",
   "id": "214b8caa",
   "metadata": {},
   "source": [
    "data is clean (no NaNs)"
   ]
  },
  {
   "cell_type": "code",
   "execution_count": 17,
   "id": "6e9d391d",
   "metadata": {
    "scrolled": true
   },
   "outputs": [
    {
     "data": {
      "text/plain": [
       "Index(['name'], dtype='object')"
      ]
     },
     "execution_count": 17,
     "metadata": {},
     "output_type": "execute_result"
    }
   ],
   "source": [
    "data.select_dtypes('object').columns"
   ]
  },
  {
   "cell_type": "markdown",
   "id": "e53a39d7",
   "metadata": {},
   "source": [
    "Unlabeled data ==> Unsupervised learning      "
   ]
  },
  {
   "cell_type": "markdown",
   "id": "ddf3ff0c",
   "metadata": {},
   "source": [
    "# label에 대한 DataVisualization"
   ]
  },
  {
   "cell_type": "code",
   "execution_count": 10,
   "id": "2ccb65bc",
   "metadata": {},
   "outputs": [
    {
     "data": {
      "text/plain": [
       "(8528, 2001)"
      ]
     },
     "execution_count": 10,
     "metadata": {},
     "output_type": "execute_result"
    }
   ],
   "source": [
    "dvis = data.drop('name', axis =1).copy()\n",
    "dvis.shape"
   ]
  },
  {
   "cell_type": "code",
   "execution_count": 29,
   "id": "debc58cf",
   "metadata": {
    "scrolled": false
   },
   "outputs": [
    {
     "data": {
      "text/plain": [
       "label\n",
       "0    5076\n",
       "1     758\n",
       "2    2415\n",
       "3     279\n",
       "dtype: int64"
      ]
     },
     "execution_count": 29,
     "metadata": {},
     "output_type": "execute_result"
    }
   ],
   "source": [
    "dvis.groupby('label').size()"
   ]
  },
  {
   "cell_type": "code",
   "execution_count": 36,
   "id": "42b5383b",
   "metadata": {},
   "outputs": [
    {
     "data": {
      "image/png": "[encoded data removed]",
      "text/plain": [
       "<Figure size 504x504 with 1 Axes>"
      ]
     },
     "metadata": {},
     "output_type": "display_data"
    }
   ],
   "source": [
    "plt.figure(figsize = (7,7))\n",
    "plt.title('Label categories')\n",
    "plt.pie(dvis.groupby('label').size(), autopct='%.2f%%', \n",
    "       labels = [0,1,2,3],\n",
    "       colors=['#FD6F96','#93B5C6','#FCF0C8','#D4ECDD'])\n",
    "plt.show()"
   ]
  },
  {
   "cell_type": "code",
   "execution_count": 49,
   "id": "c9851b7a",
   "metadata": {},
   "outputs": [
    {
     "name": "stdout",
     "output_type": "stream",
     "text": [
      "4388    0\n",
      "Name: label, dtype: int64\n",
      "5052    1\n",
      "Name: label, dtype: int64\n",
      "1212    2\n",
      "Name: label, dtype: int64\n",
      "6511    3\n",
      "Name: label, dtype: int64\n"
     ]
    }
   ],
   "source": [
    "# get each category(0,1,2,3) indexes for using in visualization for each categs\n",
    "\n",
    "label_0 = dvis[dvis['label']==0].sample().iloc[0:1,-1]\n",
    "label_1 = dvis[dvis['label']==1].sample().iloc[0:1,-1]\n",
    "label_2 = dvis[dvis['label']==2].sample().iloc[0:1,-1]\n",
    "label_3 = dvis[dvis['label']==3].sample().iloc[0:1,-1]\n",
    "print(label_0)\n",
    "print(label_1)\n",
    "print(label_2)\n",
    "print(label_3) # raw [4388,5052,1212,6511]'s labels are (0,1,2,3)"
   ]
  },
  {
   "cell_type": "code",
   "execution_count": 11,
   "id": "2d328068",
   "metadata": {},
   "outputs": [
    {
     "data": {
      "image/png": "[encoded data removed]",
      "text/plain": [
       "<Figure size 1008x720 with 4 Axes>"
      ]
     },
     "metadata": {},
     "output_type": "display_data"
    }
   ],
   "source": [
    "labels = [4388,5052,1212,6511]\n",
    "\n",
    "\n",
    "fig, axes = plt.subplots(4,1,figsize = (14,10))\n",
    "\n",
    "for i, ax in enumerate(axes.flatten()):\n",
    "    \n",
    "    y = dvis.iloc[labels[i],0:-1].values\n",
    "    ax.plot(y)\n",
    "    axes[i].set_ylabel('Amplitude[V]')\n",
    "    plt.xlabel('each label category of ECG signals')\n",
    "# plt.savefig('ECG_signals.pdf')\n",
    "plt.show()"
   ]
  },
  {
   "cell_type": "markdown",
   "id": "50ea993d",
   "metadata": {},
   "source": [
    "# Preprocessing"
   ]
  },
  {
   "cell_type": "code",
   "execution_count": 12,
   "id": "701ab58a",
   "metadata": {},
   "outputs": [],
   "source": [
    "def preprocessing_func(df):\n",
    "    df = df.copy()\n",
    "    \n",
    "    # drop uninformative feature\n",
    "    df = df.drop('name', axis = 1)\n",
    "    \n",
    "    X = df.drop('label', axis = 1)\n",
    "    y = df.label\n",
    "    \n",
    "    # Scaling\n",
    "    X = pd.DataFrame(MinMaxScaler().fit_transform(X), columns = X.columns)\n",
    "    \n",
    "    return X,y"
   ]
  },
  {
   "cell_type": "code",
   "execution_count": 13,
   "id": "72111c5a",
   "metadata": {
    "scrolled": true
   },
   "outputs": [
    {
     "data": {
      "text/html": [
       "<div>\n",
       "<style scoped>\n",
       "    .dataframe tbody tr th:only-of-type {\n",
       "        vertical-align: middle;\n",
       "    }\n",
       "\n",
       "    .dataframe tbody tr th {\n",
       "        vertical-align: top;\n",
       "    }\n",
       "\n",
       "    .dataframe thead th {\n",
       "        text-align: right;\n",
       "    }\n",
       "</style>\n",
       "<table border=\"1\" class=\"dataframe\">\n",
       "  <thead>\n",
       "    <tr style=\"text-align: right;\">\n",
       "      <th></th>\n",
       "      <th>0</th>\n",
       "      <th>1</th>\n",
       "      <th>2</th>\n",
       "      <th>3</th>\n",
       "      <th>4</th>\n",
       "      <th>5</th>\n",
       "      <th>6</th>\n",
       "      <th>7</th>\n",
       "      <th>8</th>\n",
       "      <th>9</th>\n",
       "      <th>...</th>\n",
       "      <th>1990</th>\n",
       "      <th>1991</th>\n",
       "      <th>1992</th>\n",
       "      <th>1993</th>\n",
       "      <th>1994</th>\n",
       "      <th>1995</th>\n",
       "      <th>1996</th>\n",
       "      <th>1997</th>\n",
       "      <th>1998</th>\n",
       "      <th>1999</th>\n",
       "    </tr>\n",
       "  </thead>\n",
       "  <tbody>\n",
       "    <tr>\n",
       "      <th>0</th>\n",
       "      <td>0.912982</td>\n",
       "      <td>0.895201</td>\n",
       "      <td>0.859202</td>\n",
       "      <td>0.808543</td>\n",
       "      <td>0.836176</td>\n",
       "      <td>0.860368</td>\n",
       "      <td>0.872862</td>\n",
       "      <td>0.879974</td>\n",
       "      <td>0.873928</td>\n",
       "      <td>0.856317</td>\n",
       "      <td>...</td>\n",
       "      <td>0.921878</td>\n",
       "      <td>0.906007</td>\n",
       "      <td>0.879196</td>\n",
       "      <td>0.880258</td>\n",
       "      <td>0.889934</td>\n",
       "      <td>0.892965</td>\n",
       "      <td>0.891524</td>\n",
       "      <td>0.880800</td>\n",
       "      <td>0.853687</td>\n",
       "      <td>0.819025</td>\n",
       "    </tr>\n",
       "    <tr>\n",
       "      <th>1</th>\n",
       "      <td>0.906641</td>\n",
       "      <td>0.887611</td>\n",
       "      <td>0.848071</td>\n",
       "      <td>0.789413</td>\n",
       "      <td>0.817033</td>\n",
       "      <td>0.842007</td>\n",
       "      <td>0.855186</td>\n",
       "      <td>0.863652</td>\n",
       "      <td>0.858144</td>\n",
       "      <td>0.839658</td>\n",
       "      <td>...</td>\n",
       "      <td>0.918465</td>\n",
       "      <td>0.903812</td>\n",
       "      <td>0.877962</td>\n",
       "      <td>0.880128</td>\n",
       "      <td>0.890687</td>\n",
       "      <td>0.894254</td>\n",
       "      <td>0.893224</td>\n",
       "      <td>0.883035</td>\n",
       "      <td>0.857168</td>\n",
       "      <td>0.823544</td>\n",
       "    </tr>\n",
       "    <tr>\n",
       "      <th>2</th>\n",
       "      <td>0.882416</td>\n",
       "      <td>0.862701</td>\n",
       "      <td>0.819883</td>\n",
       "      <td>0.756092</td>\n",
       "      <td>0.791315</td>\n",
       "      <td>0.822269</td>\n",
       "      <td>0.839887</td>\n",
       "      <td>0.851861</td>\n",
       "      <td>0.848133</td>\n",
       "      <td>0.830378</td>\n",
       "      <td>...</td>\n",
       "      <td>0.891964</td>\n",
       "      <td>0.871470</td>\n",
       "      <td>0.835955</td>\n",
       "      <td>0.839561</td>\n",
       "      <td>0.855399</td>\n",
       "      <td>0.862881</td>\n",
       "      <td>0.864960</td>\n",
       "      <td>0.858572</td>\n",
       "      <td>0.839951</td>\n",
       "      <td>0.810702</td>\n",
       "    </tr>\n",
       "    <tr>\n",
       "      <th>3</th>\n",
       "      <td>0.919694</td>\n",
       "      <td>0.903957</td>\n",
       "      <td>0.871598</td>\n",
       "      <td>0.824557</td>\n",
       "      <td>0.849776</td>\n",
       "      <td>0.871977</td>\n",
       "      <td>0.884160</td>\n",
       "      <td>0.892050</td>\n",
       "      <td>0.888742</td>\n",
       "      <td>0.875202</td>\n",
       "      <td>...</td>\n",
       "      <td>0.987384</td>\n",
       "      <td>0.985242</td>\n",
       "      <td>0.973235</td>\n",
       "      <td>0.956957</td>\n",
       "      <td>0.941817</td>\n",
       "      <td>0.925815</td>\n",
       "      <td>0.910915</td>\n",
       "      <td>0.893071</td>\n",
       "      <td>0.858920</td>\n",
       "      <td>0.825907</td>\n",
       "    </tr>\n",
       "    <tr>\n",
       "      <th>4</th>\n",
       "      <td>0.908032</td>\n",
       "      <td>0.889290</td>\n",
       "      <td>0.850504</td>\n",
       "      <td>0.793119</td>\n",
       "      <td>0.820857</td>\n",
       "      <td>0.845991</td>\n",
       "      <td>0.859533</td>\n",
       "      <td>0.868395</td>\n",
       "      <td>0.863628</td>\n",
       "      <td>0.846614</td>\n",
       "      <td>...</td>\n",
       "      <td>0.887764</td>\n",
       "      <td>0.870740</td>\n",
       "      <td>0.840773</td>\n",
       "      <td>0.849025</td>\n",
       "      <td>0.867278</td>\n",
       "      <td>0.876474</td>\n",
       "      <td>0.879926</td>\n",
       "      <td>0.873218</td>\n",
       "      <td>0.849595</td>\n",
       "      <td>0.823334</td>\n",
       "    </tr>\n",
       "  </tbody>\n",
       "</table>\n",
       "<p>5 rows × 2000 columns</p>\n",
       "</div>"
      ],
      "text/plain": [
       "          0         1         2         3         4         5         6  \\\n",
       "0  0.912982  0.895201  0.859202  0.808543  0.836176  0.860368  0.872862   \n",
       "1  0.906641  0.887611  0.848071  0.789413  0.817033  0.842007  0.855186   \n",
       "2  0.882416  0.862701  0.819883  0.756092  0.791315  0.822269  0.839887   \n",
       "3  0.919694  0.903957  0.871598  0.824557  0.849776  0.871977  0.884160   \n",
       "4  0.908032  0.889290  0.850504  0.793119  0.820857  0.845991  0.859533   \n",
       "\n",
       "          7         8         9  ...      1990      1991      1992      1993  \\\n",
       "0  0.879974  0.873928  0.856317  ...  0.921878  0.906007  0.879196  0.880258   \n",
       "1  0.863652  0.858144  0.839658  ...  0.918465  0.903812  0.877962  0.880128   \n",
       "2  0.851861  0.848133  0.830378  ...  0.891964  0.871470  0.835955  0.839561   \n",
       "3  0.892050  0.888742  0.875202  ...  0.987384  0.985242  0.973235  0.956957   \n",
       "4  0.868395  0.863628  0.846614  ...  0.887764  0.870740  0.840773  0.849025   \n",
       "\n",
       "       1994      1995      1996      1997      1998      1999  \n",
       "0  0.889934  0.892965  0.891524  0.880800  0.853687  0.819025  \n",
       "1  0.890687  0.894254  0.893224  0.883035  0.857168  0.823544  \n",
       "2  0.855399  0.862881  0.864960  0.858572  0.839951  0.810702  \n",
       "3  0.941817  0.925815  0.910915  0.893071  0.858920  0.825907  \n",
       "4  0.867278  0.876474  0.879926  0.873218  0.849595  0.823334  \n",
       "\n",
       "[5 rows x 2000 columns]"
      ]
     },
     "execution_count": 13,
     "metadata": {},
     "output_type": "execute_result"
    }
   ],
   "source": [
    "X,y = preprocessing_func(data)\n",
    "X.head()"
   ]
  },
  {
   "cell_type": "markdown",
   "id": "62becb18",
   "metadata": {},
   "source": [
    "# PCA - Principal Component Analisys\n",
    "Dimensional Reduction - needed for visualizing the data in 2D plot"
   ]
  },
  {
   "cell_type": "code",
   "execution_count": 14,
   "id": "36ecfe49",
   "metadata": {},
   "outputs": [
    {
     "data": {
      "text/html": [
       "<div>\n",
       "<style scoped>\n",
       "    .dataframe tbody tr th:only-of-type {\n",
       "        vertical-align: middle;\n",
       "    }\n",
       "\n",
       "    .dataframe tbody tr th {\n",
       "        vertical-align: top;\n",
       "    }\n",
       "\n",
       "    .dataframe thead th {\n",
       "        text-align: right;\n",
       "    }\n",
       "</style>\n",
       "<table border=\"1\" class=\"dataframe\">\n",
       "  <thead>\n",
       "    <tr style=\"text-align: right;\">\n",
       "      <th></th>\n",
       "      <th>PC1</th>\n",
       "      <th>PC2</th>\n",
       "    </tr>\n",
       "  </thead>\n",
       "  <tbody>\n",
       "    <tr>\n",
       "      <th>0</th>\n",
       "      <td>-0.011006</td>\n",
       "      <td>0.046550</td>\n",
       "    </tr>\n",
       "    <tr>\n",
       "      <th>1</th>\n",
       "      <td>-0.075404</td>\n",
       "      <td>0.073674</td>\n",
       "    </tr>\n",
       "    <tr>\n",
       "      <th>2</th>\n",
       "      <td>-0.560746</td>\n",
       "      <td>0.241885</td>\n",
       "    </tr>\n",
       "    <tr>\n",
       "      <th>3</th>\n",
       "      <td>-0.216540</td>\n",
       "      <td>0.126183</td>\n",
       "    </tr>\n",
       "    <tr>\n",
       "      <th>4</th>\n",
       "      <td>0.020916</td>\n",
       "      <td>-0.088544</td>\n",
       "    </tr>\n",
       "    <tr>\n",
       "      <th>...</th>\n",
       "      <td>...</td>\n",
       "      <td>...</td>\n",
       "    </tr>\n",
       "    <tr>\n",
       "      <th>8523</th>\n",
       "      <td>-0.051399</td>\n",
       "      <td>-0.049779</td>\n",
       "    </tr>\n",
       "    <tr>\n",
       "      <th>8524</th>\n",
       "      <td>0.155504</td>\n",
       "      <td>0.490447</td>\n",
       "    </tr>\n",
       "    <tr>\n",
       "      <th>8525</th>\n",
       "      <td>-0.169967</td>\n",
       "      <td>-0.005854</td>\n",
       "    </tr>\n",
       "    <tr>\n",
       "      <th>8526</th>\n",
       "      <td>0.138336</td>\n",
       "      <td>-0.290180</td>\n",
       "    </tr>\n",
       "    <tr>\n",
       "      <th>8527</th>\n",
       "      <td>-0.467072</td>\n",
       "      <td>-0.239223</td>\n",
       "    </tr>\n",
       "  </tbody>\n",
       "</table>\n",
       "<p>8528 rows × 2 columns</p>\n",
       "</div>"
      ],
      "text/plain": [
       "           PC1       PC2\n",
       "0    -0.011006  0.046550\n",
       "1    -0.075404  0.073674\n",
       "2    -0.560746  0.241885\n",
       "3    -0.216540  0.126183\n",
       "4     0.020916 -0.088544\n",
       "...        ...       ...\n",
       "8523 -0.051399 -0.049779\n",
       "8524  0.155504  0.490447\n",
       "8525 -0.169967 -0.005854\n",
       "8526  0.138336 -0.290180\n",
       "8527 -0.467072 -0.239223\n",
       "\n",
       "[8528 rows x 2 columns]"
      ]
     },
     "execution_count": 14,
     "metadata": {},
     "output_type": "execute_result"
    }
   ],
   "source": [
    "pca = PCA(n_components=2)\n",
    "X2D = pca.fit_transform(X)\n",
    "df_X2D = pd.DataFrame(X2D, columns = ['PC1','PC2'])\n",
    "df_X2D"
   ]
  },
  {
   "cell_type": "markdown",
   "id": "50d4e209",
   "metadata": {},
   "source": [
    "# KMeans - cluster"
   ]
  },
  {
   "cell_type": "code",
   "execution_count": 15,
   "id": "9c7c2c08",
   "metadata": {},
   "outputs": [
    {
     "data": {
      "text/plain": [
       "KMeans(n_clusters=4)"
      ]
     },
     "execution_count": 15,
     "metadata": {},
     "output_type": "execute_result"
    }
   ],
   "source": [
    "km = KMeans(n_clusters=4)\n",
    "km.fit(X)"
   ]
  },
  {
   "cell_type": "code",
   "execution_count": 16,
   "id": "dd64fa4c",
   "metadata": {},
   "outputs": [
    {
     "data": {
      "text/html": [
       "<div>\n",
       "<style scoped>\n",
       "    .dataframe tbody tr th:only-of-type {\n",
       "        vertical-align: middle;\n",
       "    }\n",
       "\n",
       "    .dataframe tbody tr th {\n",
       "        vertical-align: top;\n",
       "    }\n",
       "\n",
       "    .dataframe thead th {\n",
       "        text-align: right;\n",
       "    }\n",
       "</style>\n",
       "<table border=\"1\" class=\"dataframe\">\n",
       "  <thead>\n",
       "    <tr style=\"text-align: right;\">\n",
       "      <th></th>\n",
       "      <th>PC1</th>\n",
       "      <th>PC2</th>\n",
       "      <th>clusters</th>\n",
       "    </tr>\n",
       "  </thead>\n",
       "  <tbody>\n",
       "    <tr>\n",
       "      <th>7574</th>\n",
       "      <td>-0.223156</td>\n",
       "      <td>-0.049955</td>\n",
       "      <td>0</td>\n",
       "    </tr>\n",
       "    <tr>\n",
       "      <th>1807</th>\n",
       "      <td>0.151698</td>\n",
       "      <td>-0.037043</td>\n",
       "      <td>0</td>\n",
       "    </tr>\n",
       "    <tr>\n",
       "      <th>4808</th>\n",
       "      <td>-0.021288</td>\n",
       "      <td>-0.019287</td>\n",
       "      <td>0</td>\n",
       "    </tr>\n",
       "    <tr>\n",
       "      <th>6185</th>\n",
       "      <td>-0.571565</td>\n",
       "      <td>0.176672</td>\n",
       "      <td>1</td>\n",
       "    </tr>\n",
       "    <tr>\n",
       "      <th>5496</th>\n",
       "      <td>0.091243</td>\n",
       "      <td>0.017403</td>\n",
       "      <td>0</td>\n",
       "    </tr>\n",
       "  </tbody>\n",
       "</table>\n",
       "</div>"
      ],
      "text/plain": [
       "           PC1       PC2  clusters\n",
       "7574 -0.223156 -0.049955         0\n",
       "1807  0.151698 -0.037043         0\n",
       "4808 -0.021288 -0.019287         0\n",
       "6185 -0.571565  0.176672         1\n",
       "5496  0.091243  0.017403         0"
      ]
     },
     "execution_count": 16,
     "metadata": {},
     "output_type": "execute_result"
    }
   ],
   "source": [
    "df_X2D['clusters'] = km.labels_\n",
    "df_X2D.sample(5)"
   ]
  },
  {
   "cell_type": "code",
   "execution_count": 17,
   "id": "bc646e6b",
   "metadata": {},
   "outputs": [
    {
     "data": {
      "text/plain": [
       "0    6828\n",
       "1     688\n",
       "2     574\n",
       "3     438\n",
       "Name: clusters, dtype: int64"
      ]
     },
     "execution_count": 17,
     "metadata": {},
     "output_type": "execute_result"
    }
   ],
   "source": [
    "df_X2D.clusters.value_counts()"
   ]
  },
  {
   "cell_type": "code",
   "execution_count": 18,
   "id": "e9426935",
   "metadata": {},
   "outputs": [
    {
     "data": {
      "text/plain": [
       "array([[ 0.00307831,  0.000865  ],\n",
       "       [-0.41397156, -0.16610243],\n",
       "       [-0.00611029,  0.36772268],\n",
       "       [ 0.61027633, -0.23447613]])"
      ]
     },
     "execution_count": 18,
     "metadata": {},
     "output_type": "execute_result"
    }
   ],
   "source": [
    "fn_centroid = pca.transform(km.cluster_centers_)\n",
    "fn_centroid"
   ]
  },
  {
   "cell_type": "code",
   "execution_count": 19,
   "id": "9117676e",
   "metadata": {
    "scrolled": false
   },
   "outputs": [
    {
     "name": "stderr",
     "output_type": "stream",
     "text": [
      "C:\\Users\\admin\\anaconda3\\lib\\site-packages\\seaborn\\_decorators.py:36: FutureWarning: Pass the following variables as keyword args: x, y. From version 0.12, the only valid positional argument will be `data`, and passing other arguments without an explicit keyword will result in an error or misinterpretation.\n",
      "  warnings.warn(\n"
     ]
    },
    {
     "data": {
      "text/plain": [
       "<matplotlib.collections.PathCollection at 0x162931698b0>"
      ]
     },
     "execution_count": 19,
     "metadata": {},
     "output_type": "execute_result"
    },
    {
     "data": {
      "image/png": "[encoded data removed]",
      "text/plain": [
       "<Figure size 410.3x360 with 1 Axes>"
      ]
     },
     "metadata": {},
     "output_type": "display_data"
    }
   ],
   "source": [
    "sns.lmplot('PC1','PC2',data = df_X2D, hue = 'clusters', fit_reg=False)\n",
    "plt.scatter(fn_centroid[:,0], fn_centroid[:,1], marker='X', c = 'black')"
   ]
  },
  {
   "cell_type": "markdown",
   "id": "e1dd869b",
   "metadata": {},
   "source": [
    "# Training"
   ]
  },
  {
   "cell_type": "code",
   "execution_count": 20,
   "id": "e28b8fd5",
   "metadata": {},
   "outputs": [
    {
     "data": {
      "text/plain": [
       "(6822, 2000)"
      ]
     },
     "execution_count": 20,
     "metadata": {},
     "output_type": "execute_result"
    }
   ],
   "source": [
    "X_train,X_test, y_train, y_test = train_test_split(X,y, train_size = .8, random_state=0)\n",
    "X_train.shape"
   ]
  },
  {
   "cell_type": "code",
   "execution_count": 21,
   "id": "6726b017",
   "metadata": {},
   "outputs": [
    {
     "name": "stdout",
     "output_type": "stream",
     "text": [
      "      Neural network  is trained\n",
      "KNeighborsClassifier  is trained\n",
      "          GaussianNB  is trained\n"
     ]
    }
   ],
   "source": [
    "models = {\n",
    "    '      Neural network' : MLPClassifier(),\n",
    "    'KNeighborsClassifier' : KNeighborsClassifier(n_neighbors=6),\n",
    "    '          GaussianNB' : GaussianNB()\n",
    "}\n",
    "\n",
    "for name, model in models.items():\n",
    "    model.fit(X_train, y_train)\n",
    "    print(name, ' is trained')"
   ]
  },
  {
   "cell_type": "code",
   "execution_count": 22,
   "id": "525fdbba",
   "metadata": {},
   "outputs": [
    {
     "name": "stdout",
     "output_type": "stream",
     "text": [
      "      Neural network  's accuracy score is 60.32%\n",
      "KNeighborsClassifier  's accuracy score is 58.73%\n",
      "          GaussianNB  's accuracy score is 15.71%\n"
     ]
    }
   ],
   "source": [
    "for name, model in models.items():\n",
    "    y_pred = model.predict(X_test)\n",
    "    score = accuracy_score(y_pred, y_test)\n",
    "    print(name,\" 's accuracy score is {:.2f}%\".format(score*100))"
   ]
  },
  {
   "cell_type": "code",
   "execution_count": null,
   "id": "40e84f42",
   "metadata": {},
   "outputs": [],
   "source": [
    "\n",
    "\n",
    "\n"
   ]
  },
  {
   "cell_type": "code",
   "execution_count": 23,
   "id": "d3a54870",
   "metadata": {},
   "outputs": [
    {
     "name": "stdout",
     "output_type": "stream",
     "text": [
      "DecisionTreeClassifier 's trained!\n",
      "RandomForestClassifier 's trained!\n"
     ]
    }
   ],
   "source": [
    "models2  = {\n",
    "    'DecisionTreeClassifier':DecisionTreeClassifier(max_depth = 10),\n",
    "    'RandomForestClassifier':RandomForestClassifier(n_estimators=100),\n",
    "}\n",
    "\n",
    "for name, model in models2.items():\n",
    "    model.fit(X_train,y_train)\n",
    "    print(name,\"'s trained!\")\n",
    "\n"
   ]
  },
  {
   "cell_type": "code",
   "execution_count": 24,
   "id": "e12d4e92",
   "metadata": {},
   "outputs": [
    {
     "name": "stdout",
     "output_type": "stream",
     "text": [
      "DecisionTreeClassifier  's accuracy score is 55.69%\n",
      "RandomForestClassifier  's accuracy score is 60.61%\n"
     ]
    }
   ],
   "source": [
    "for name, model in models2.items():\n",
    "    y_pred = model.predict(X_test)\n",
    "    score = accuracy_score(y_pred, y_test)\n",
    "    print(name,\" 's accuracy score is {:.2f}%\".format(score*100))"
   ]
  },
  {
   "cell_type": "code",
   "execution_count": null,
   "id": "e88e0231",
   "metadata": {},
   "outputs": [],
   "source": []
  },
  {
   "cell_type": "markdown",
   "id": "33fc6d1e",
   "metadata": {},
   "source": [
    "# Test Results"
   ]
  },
  {
   "cell_type": "markdown",
   "id": "72211401",
   "metadata": {},
   "source": [
    "# TRY 1 - without scaling = Original data\n",
    "    *  train_size = .8      \n",
    "    *  df_X2D.clusters.value_counts() - \n",
    "           3    6969\n",
    "           2     977\n",
    "           0     306\n",
    "           1     276\n",
    "      \n",
    "Neural network's       accuracy score is 53.34%         \n",
    "KNeighborsClassifier's accuracy score is 59.03%       \n",
    "GaussianNB's accuracy score is 15.71%\n",
    "\n",
    "<img src = 'withoutScalingPCA.png' alt = 'without scaling pca' width=\"500\" height=\"500\">\n",
    "\n",
    "# TRY 2 - StandardScaled (X)\n",
    "    *  train_size = .8      \n",
    "    *  df_X2D.clusters.value_counts() - \n",
    "            1    6887\n",
    "            3     801\n",
    "            2     442\n",
    "            0     398\n",
    "\n",
    "Neural network's       accuracy score is 50.70%         \n",
    "KNeighborsClassifier's accuracy score is 59.14%       \n",
    "GaussianNB's accuracy score is 15.71%       \n",
    "DecisionTreeClassifier  's accuracy score is 55.33%        \n",
    "RandomForestClassifier  's accuracy score is 60.55%   \n",
    "\n",
    "<img src = 'StandardScalingPCA.png' alt = 'Standard Scaling pca' width = '500' height = '500'>\n",
    "\n",
    "# TRY 3 - MinMaxScaled (X)\n",
    "    *  train_size = .8      \n",
    "    *  df_X2D.clusters.value_counts() - \n",
    "            0    6828\n",
    "            1     688\n",
    "            2     574\n",
    "            3     438\n",
    "            \n",
    "Neural network's       accuracy score is 60.32%         \n",
    "KNeighborsClassifier's accuracy score is 58.73%       \n",
    "GaussianNB's accuracy score is 15.71%       \n",
    "DecisionTreeClassifier  's accuracy score is 55.69%        \n",
    "RandomForestClassifier  's accuracy score is 60.61%   <---- Max Accuracy Score \n",
    "\n",
    "<img src = 'withoutScalingPCA.png' alt = 'MinMax Scaling PCA' width = '500' height = '500'>\n",
    "\n",
    "<h3><em>  <a href = 'ECG_signals.pdf'>see</a> ECG signals<em></h3>"
   ]
  },
  {
   "cell_type": "code",
   "execution_count": null,
   "id": "a55ebf24",
   "metadata": {},
   "outputs": [],
   "source": []
  }
 ],
 "metadata": {
  "kernelspec": {
   "display_name": "Python 3",
   "language": "python",
   "name": "python3"
  },
  "language_info": {
   "codemirror_mode": {
    "name": "ipython",
    "version": 3
   },
   "file_extension": ".py",
   "mimetype": "text/x-python",
   "name": "python",
   "nbconvert_exporter": "python",
   "pygments_lexer": "ipython3",
   "version": "3.8.8"
  }
 },
 "nbformat": 4,
 "nbformat_minor": 5
}
